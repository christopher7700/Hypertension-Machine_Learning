{
 "cells": [
  {
   "cell_type": "markdown",
   "metadata": {},
   "source": [
    "# Hypertension Prediction Project"
   ]
  },
  {
   "cell_type": "markdown",
   "metadata": {},
   "source": [
    "## Import Data"
   ]
  },
  {
   "cell_type": "code",
   "execution_count": 51,
   "metadata": {},
   "outputs": [],
   "source": [
    "import pandas as pd\n",
    "import numpy as np\n",
    "\n",
    "\n",
    "import matplotlib as mpl\n",
    "import matplotlib.pyplot as plt\n",
    "\n",
    "import seaborn as sns\n",
    "\n",
    "from sklearn.model_selection import train_test_split\n",
    "from sklearn.linear_model import LogisticRegression\n",
    "from xgboost import XGBClassifier\n",
    "from sklearn.tree import DecisionTreeClassifier\n",
    "\n",
    "from sklearn.metrics import confusion_matrix\n",
    "from sklearn.metrics import classification_report\n",
    "from sklearn.metrics import accuracy_score"
   ]
  },
  {
   "cell_type": "code",
   "execution_count": 2,
   "metadata": {},
   "outputs": [],
   "source": [
    "# Import data with pandas\n",
    "DF =  pd.read_csv('health_data.csv')"
   ]
  },
  {
   "cell_type": "code",
   "execution_count": 3,
   "metadata": {},
   "outputs": [
    {
     "name": "stdout",
     "output_type": "stream",
     "text": [
      "DataFrame has shape:  (70692, 16)\n"
     ]
    }
   ],
   "source": [
    "# Remove Diabetes column from dataframe\n",
    "if 'Diabetes' in DF.columns:\n",
    "    DF.pop('Diabetes')\n",
    "\n",
    "if 'Stroke' in DF.columns:\n",
    "    DF.pop('Stroke')\n",
    "\n",
    "print( 'DataFrame has shape: ' , DF.shape)"
   ]
  },
  {
   "cell_type": "markdown",
   "metadata": {},
   "source": [
    "## Data processing"
   ]
  },
  {
   "cell_type": "code",
   "execution_count": 4,
   "metadata": {},
   "outputs": [
    {
     "data": {
      "text/plain": [
       "Age                     0\n",
       "Sex                     0\n",
       "HighChol                0\n",
       "CholCheck               0\n",
       "BMI                     0\n",
       "Smoker                  0\n",
       "HeartDiseaseorAttack    0\n",
       "PhysActivity            0\n",
       "Fruits                  0\n",
       "Veggies                 0\n",
       "HvyAlcoholConsump       0\n",
       "GenHlth                 0\n",
       "MentHlth                0\n",
       "PhysHlth                0\n",
       "DiffWalk                0\n",
       "Hypertension            0\n",
       "dtype: int64"
      ]
     },
     "execution_count": 4,
     "metadata": {},
     "output_type": "execute_result"
    }
   ],
   "source": [
    "#Verify if Null values exist in our Data.\n",
    "DF.isnull().sum()"
   ]
  },
  {
   "cell_type": "code",
   "execution_count": 5,
   "metadata": {},
   "outputs": [
    {
     "name": "stdout",
     "output_type": "stream",
     "text": [
      "<class 'pandas.core.frame.DataFrame'>\n",
      "RangeIndex: 70692 entries, 0 to 70691\n",
      "Data columns (total 16 columns):\n",
      " #   Column                Non-Null Count  Dtype  \n",
      "---  ------                --------------  -----  \n",
      " 0   Age                   70692 non-null  float64\n",
      " 1   Sex                   70692 non-null  float64\n",
      " 2   HighChol              70692 non-null  float64\n",
      " 3   CholCheck             70692 non-null  float64\n",
      " 4   BMI                   70692 non-null  float64\n",
      " 5   Smoker                70692 non-null  float64\n",
      " 6   HeartDiseaseorAttack  70692 non-null  float64\n",
      " 7   PhysActivity          70692 non-null  float64\n",
      " 8   Fruits                70692 non-null  float64\n",
      " 9   Veggies               70692 non-null  float64\n",
      " 10  HvyAlcoholConsump     70692 non-null  float64\n",
      " 11  GenHlth               70692 non-null  float64\n",
      " 12  MentHlth              70692 non-null  float64\n",
      " 13  PhysHlth              70692 non-null  float64\n",
      " 14  DiffWalk              70692 non-null  float64\n",
      " 15  Hypertension          70692 non-null  float64\n",
      "dtypes: float64(16)\n",
      "memory usage: 8.6 MB\n"
     ]
    }
   ],
   "source": [
    "DF.info()"
   ]
  },
  {
   "cell_type": "code",
   "execution_count": 6,
   "metadata": {},
   "outputs": [],
   "source": [
    "#Change Daaframe Values to Type Int\n",
    "DF = DF.astype(int)"
   ]
  },
  {
   "cell_type": "code",
   "execution_count": 7,
   "metadata": {},
   "outputs": [
    {
     "data": {
      "text/html": [
       "<div>\n",
       "<style scoped>\n",
       "    .dataframe tbody tr th:only-of-type {\n",
       "        vertical-align: middle;\n",
       "    }\n",
       "\n",
       "    .dataframe tbody tr th {\n",
       "        vertical-align: top;\n",
       "    }\n",
       "\n",
       "    .dataframe thead th {\n",
       "        text-align: right;\n",
       "    }\n",
       "</style>\n",
       "<table border=\"1\" class=\"dataframe\">\n",
       "  <thead>\n",
       "    <tr style=\"text-align: right;\">\n",
       "      <th></th>\n",
       "      <th>Age</th>\n",
       "      <th>Sex</th>\n",
       "      <th>HighChol</th>\n",
       "      <th>CholCheck</th>\n",
       "      <th>BMI</th>\n",
       "      <th>Smoker</th>\n",
       "      <th>HeartDiseaseorAttack</th>\n",
       "      <th>PhysActivity</th>\n",
       "      <th>Fruits</th>\n",
       "      <th>Veggies</th>\n",
       "      <th>HvyAlcoholConsump</th>\n",
       "      <th>GenHlth</th>\n",
       "      <th>MentHlth</th>\n",
       "      <th>PhysHlth</th>\n",
       "      <th>DiffWalk</th>\n",
       "      <th>Hypertension</th>\n",
       "    </tr>\n",
       "  </thead>\n",
       "  <tbody>\n",
       "    <tr>\n",
       "      <th>count</th>\n",
       "      <td>70692.000000</td>\n",
       "      <td>70692.000000</td>\n",
       "      <td>70692.000000</td>\n",
       "      <td>70692.000000</td>\n",
       "      <td>70692.000000</td>\n",
       "      <td>70692.000000</td>\n",
       "      <td>70692.000000</td>\n",
       "      <td>70692.000000</td>\n",
       "      <td>70692.000000</td>\n",
       "      <td>70692.000000</td>\n",
       "      <td>70692.000000</td>\n",
       "      <td>70692.000000</td>\n",
       "      <td>70692.000000</td>\n",
       "      <td>70692.000000</td>\n",
       "      <td>70692.000000</td>\n",
       "      <td>70692.000000</td>\n",
       "    </tr>\n",
       "    <tr>\n",
       "      <th>mean</th>\n",
       "      <td>8.584055</td>\n",
       "      <td>0.456997</td>\n",
       "      <td>0.525703</td>\n",
       "      <td>0.975259</td>\n",
       "      <td>29.856985</td>\n",
       "      <td>0.475273</td>\n",
       "      <td>0.147810</td>\n",
       "      <td>0.703036</td>\n",
       "      <td>0.611795</td>\n",
       "      <td>0.788774</td>\n",
       "      <td>0.042721</td>\n",
       "      <td>2.837082</td>\n",
       "      <td>3.752037</td>\n",
       "      <td>5.810417</td>\n",
       "      <td>0.252730</td>\n",
       "      <td>0.563458</td>\n",
       "    </tr>\n",
       "    <tr>\n",
       "      <th>std</th>\n",
       "      <td>2.852153</td>\n",
       "      <td>0.498151</td>\n",
       "      <td>0.499342</td>\n",
       "      <td>0.155336</td>\n",
       "      <td>7.113954</td>\n",
       "      <td>0.499392</td>\n",
       "      <td>0.354914</td>\n",
       "      <td>0.456924</td>\n",
       "      <td>0.487345</td>\n",
       "      <td>0.408181</td>\n",
       "      <td>0.202228</td>\n",
       "      <td>1.113565</td>\n",
       "      <td>8.155627</td>\n",
       "      <td>10.062261</td>\n",
       "      <td>0.434581</td>\n",
       "      <td>0.495960</td>\n",
       "    </tr>\n",
       "    <tr>\n",
       "      <th>min</th>\n",
       "      <td>1.000000</td>\n",
       "      <td>0.000000</td>\n",
       "      <td>0.000000</td>\n",
       "      <td>0.000000</td>\n",
       "      <td>12.000000</td>\n",
       "      <td>0.000000</td>\n",
       "      <td>0.000000</td>\n",
       "      <td>0.000000</td>\n",
       "      <td>0.000000</td>\n",
       "      <td>0.000000</td>\n",
       "      <td>0.000000</td>\n",
       "      <td>1.000000</td>\n",
       "      <td>0.000000</td>\n",
       "      <td>0.000000</td>\n",
       "      <td>0.000000</td>\n",
       "      <td>0.000000</td>\n",
       "    </tr>\n",
       "    <tr>\n",
       "      <th>25%</th>\n",
       "      <td>7.000000</td>\n",
       "      <td>0.000000</td>\n",
       "      <td>0.000000</td>\n",
       "      <td>1.000000</td>\n",
       "      <td>25.000000</td>\n",
       "      <td>0.000000</td>\n",
       "      <td>0.000000</td>\n",
       "      <td>0.000000</td>\n",
       "      <td>0.000000</td>\n",
       "      <td>1.000000</td>\n",
       "      <td>0.000000</td>\n",
       "      <td>2.000000</td>\n",
       "      <td>0.000000</td>\n",
       "      <td>0.000000</td>\n",
       "      <td>0.000000</td>\n",
       "      <td>0.000000</td>\n",
       "    </tr>\n",
       "    <tr>\n",
       "      <th>50%</th>\n",
       "      <td>9.000000</td>\n",
       "      <td>0.000000</td>\n",
       "      <td>1.000000</td>\n",
       "      <td>1.000000</td>\n",
       "      <td>29.000000</td>\n",
       "      <td>0.000000</td>\n",
       "      <td>0.000000</td>\n",
       "      <td>1.000000</td>\n",
       "      <td>1.000000</td>\n",
       "      <td>1.000000</td>\n",
       "      <td>0.000000</td>\n",
       "      <td>3.000000</td>\n",
       "      <td>0.000000</td>\n",
       "      <td>0.000000</td>\n",
       "      <td>0.000000</td>\n",
       "      <td>1.000000</td>\n",
       "    </tr>\n",
       "    <tr>\n",
       "      <th>75%</th>\n",
       "      <td>11.000000</td>\n",
       "      <td>1.000000</td>\n",
       "      <td>1.000000</td>\n",
       "      <td>1.000000</td>\n",
       "      <td>33.000000</td>\n",
       "      <td>1.000000</td>\n",
       "      <td>0.000000</td>\n",
       "      <td>1.000000</td>\n",
       "      <td>1.000000</td>\n",
       "      <td>1.000000</td>\n",
       "      <td>0.000000</td>\n",
       "      <td>4.000000</td>\n",
       "      <td>2.000000</td>\n",
       "      <td>6.000000</td>\n",
       "      <td>1.000000</td>\n",
       "      <td>1.000000</td>\n",
       "    </tr>\n",
       "    <tr>\n",
       "      <th>max</th>\n",
       "      <td>13.000000</td>\n",
       "      <td>1.000000</td>\n",
       "      <td>1.000000</td>\n",
       "      <td>1.000000</td>\n",
       "      <td>98.000000</td>\n",
       "      <td>1.000000</td>\n",
       "      <td>1.000000</td>\n",
       "      <td>1.000000</td>\n",
       "      <td>1.000000</td>\n",
       "      <td>1.000000</td>\n",
       "      <td>1.000000</td>\n",
       "      <td>5.000000</td>\n",
       "      <td>30.000000</td>\n",
       "      <td>30.000000</td>\n",
       "      <td>1.000000</td>\n",
       "      <td>1.000000</td>\n",
       "    </tr>\n",
       "  </tbody>\n",
       "</table>\n",
       "</div>"
      ],
      "text/plain": [
       "                Age           Sex      HighChol     CholCheck           BMI  \\\n",
       "count  70692.000000  70692.000000  70692.000000  70692.000000  70692.000000   \n",
       "mean       8.584055      0.456997      0.525703      0.975259     29.856985   \n",
       "std        2.852153      0.498151      0.499342      0.155336      7.113954   \n",
       "min        1.000000      0.000000      0.000000      0.000000     12.000000   \n",
       "25%        7.000000      0.000000      0.000000      1.000000     25.000000   \n",
       "50%        9.000000      0.000000      1.000000      1.000000     29.000000   \n",
       "75%       11.000000      1.000000      1.000000      1.000000     33.000000   \n",
       "max       13.000000      1.000000      1.000000      1.000000     98.000000   \n",
       "\n",
       "             Smoker  HeartDiseaseorAttack  PhysActivity        Fruits  \\\n",
       "count  70692.000000          70692.000000  70692.000000  70692.000000   \n",
       "mean       0.475273              0.147810      0.703036      0.611795   \n",
       "std        0.499392              0.354914      0.456924      0.487345   \n",
       "min        0.000000              0.000000      0.000000      0.000000   \n",
       "25%        0.000000              0.000000      0.000000      0.000000   \n",
       "50%        0.000000              0.000000      1.000000      1.000000   \n",
       "75%        1.000000              0.000000      1.000000      1.000000   \n",
       "max        1.000000              1.000000      1.000000      1.000000   \n",
       "\n",
       "            Veggies  HvyAlcoholConsump       GenHlth      MentHlth  \\\n",
       "count  70692.000000       70692.000000  70692.000000  70692.000000   \n",
       "mean       0.788774           0.042721      2.837082      3.752037   \n",
       "std        0.408181           0.202228      1.113565      8.155627   \n",
       "min        0.000000           0.000000      1.000000      0.000000   \n",
       "25%        1.000000           0.000000      2.000000      0.000000   \n",
       "50%        1.000000           0.000000      3.000000      0.000000   \n",
       "75%        1.000000           0.000000      4.000000      2.000000   \n",
       "max        1.000000           1.000000      5.000000     30.000000   \n",
       "\n",
       "           PhysHlth      DiffWalk  Hypertension  \n",
       "count  70692.000000  70692.000000  70692.000000  \n",
       "mean       5.810417      0.252730      0.563458  \n",
       "std       10.062261      0.434581      0.495960  \n",
       "min        0.000000      0.000000      0.000000  \n",
       "25%        0.000000      0.000000      0.000000  \n",
       "50%        0.000000      0.000000      1.000000  \n",
       "75%        6.000000      1.000000      1.000000  \n",
       "max       30.000000      1.000000      1.000000  "
      ]
     },
     "execution_count": 7,
     "metadata": {},
     "output_type": "execute_result"
    }
   ],
   "source": [
    "# Statistical Desription of our variables.\n",
    "DF.describe()"
   ]
  },
  {
   "cell_type": "code",
   "execution_count": 8,
   "metadata": {},
   "outputs": [],
   "source": [
    "\n",
    "def filter_rows(list):\n",
    "    #Call Global Variable for DF\n",
    "    global DF           \n",
    "    for i in list:\n",
    "        DF = DF[DF[i] <= DF[i].quantile(.85)]\n",
    "    #Reset Index of df\n",
    "    DF.reset_index(drop = True , inplace=True)\n",
    "filter_rows(['BMI'])\n",
    "\n",
    "# #   Creating the same function without the use of Global-Variables\n",
    "# def filter_rows(list,DF):\n",
    "#     for i in list:\n",
    "#         DF = DF[DF[i] <= DF[i].quantile(.85)]\n",
    "#     DF.reset_index(drop = True , inplace=True)\n",
    "# filter_rows(['BMI'],DF)"
   ]
  },
  {
   "cell_type": "markdown",
   "metadata": {},
   "source": [
    "# Explortary Data Analysis \n"
   ]
  },
  {
   "cell_type": "code",
   "execution_count": 9,
   "metadata": {},
   "outputs": [
    {
     "data": {
      "text/plain": [
       "1    32127\n",
       "0    28323\n",
       "Name: Hypertension, dtype: int64"
      ]
     },
     "execution_count": 9,
     "metadata": {},
     "output_type": "execute_result"
    }
   ],
   "source": [
    "DF.Hypertension.value_counts()"
   ]
  },
  {
   "cell_type": "code",
   "execution_count": 10,
   "metadata": {},
   "outputs": [
    {
     "data": {
      "image/png": "[encoded data removed]",
      "text/plain": [
       "<Figure size 432x288 with 1 Axes>"
      ]
     },
     "metadata": {},
     "output_type": "display_data"
    }
   ],
   "source": [
    "DF.Fruits.value_counts().plot.pie()\n",
    "plt.show()"
   ]
  },
  {
   "cell_type": "code",
   "execution_count": 11,
   "metadata": {},
   "outputs": [
    {
     "data": {
      "image/png": "[encoded data removed]",
      "text/plain": [
       "<Figure size 432x288 with 1 Axes>"
      ]
     },
     "metadata": {},
     "output_type": "display_data"
    }
   ],
   "source": [
    "DF.Veggies.value_counts().plot.pie()\n",
    "plt.show()"
   ]
  },
  {
   "cell_type": "code",
   "execution_count": 12,
   "metadata": {},
   "outputs": [
    {
     "name": "stderr",
     "output_type": "stream",
     "text": [
      "/Library/Frameworks/Python.framework/Versions/3.8/lib/python3.8/site-packages/seaborn/_decorators.py:36: FutureWarning: Pass the following variables as keyword args: x, y. From version 0.12, the only valid positional argument will be `data`, and passing other arguments without an explicit keyword will result in an error or misinterpretation.\n",
      "  warnings.warn(\n"
     ]
    },
    {
     "data": {
      "text/plain": [
       "<AxesSubplot:xlabel='Sex', ylabel='BMI'>"
      ]
     },
     "execution_count": 12,
     "metadata": {},
     "output_type": "execute_result"
    },
    {
     "data": {
      "image/png": "[encoded data removed]",
      "text/plain": [
       "<Figure size 432x288 with 1 Axes>"
      ]
     },
     "metadata": {
      "needs_background": "light"
     },
     "output_type": "display_data"
    }
   ],
   "source": [
    "sns.boxplot(DF.Sex,DF.BMI)"
   ]
  },
  {
   "cell_type": "code",
   "execution_count": 13,
   "metadata": {},
   "outputs": [
    {
     "name": "stderr",
     "output_type": "stream",
     "text": [
      "/Library/Frameworks/Python.framework/Versions/3.8/lib/python3.8/site-packages/seaborn/_decorators.py:36: FutureWarning: Pass the following variables as keyword args: x, y. From version 0.12, the only valid positional argument will be `data`, and passing other arguments without an explicit keyword will result in an error or misinterpretation.\n",
      "  warnings.warn(\n"
     ]
    },
    {
     "data": {
      "text/plain": [
       "<AxesSubplot:xlabel='Hypertension', ylabel='BMI'>"
      ]
     },
     "execution_count": 13,
     "metadata": {},
     "output_type": "execute_result"
    },
    {
     "data": {
      "image/png": "[encoded data removed]",
      "text/plain": [
       "<Figure size 432x288 with 1 Axes>"
      ]
     },
     "metadata": {
      "needs_background": "light"
     },
     "output_type": "display_data"
    }
   ],
   "source": [
    "sns.boxplot(DF.Hypertension,DF.BMI)"
   ]
  },
  {
   "cell_type": "code",
   "execution_count": 14,
   "metadata": {},
   "outputs": [
    {
     "data": {
      "text/plain": [
       "<AxesSubplot:xlabel='BMI', ylabel='Percent'>"
      ]
     },
     "execution_count": 14,
     "metadata": {},
     "output_type": "execute_result"
    },
    {
     "data": {
      "image/png": "[encoded data removed]",
      "text/plain": [
       "<Figure size 432x288 with 1 Axes>"
      ]
     },
     "metadata": {
      "needs_background": "light"
     },
     "output_type": "display_data"
    }
   ],
   "source": [
    "sns.histplot(data=DF,x='BMI',hue='Hypertension',kde=True,stat='percent')"
   ]
  },
  {
   "cell_type": "code",
   "execution_count": 15,
   "metadata": {},
   "outputs": [
    {
     "data": {
      "text/plain": [
       "<AxesSubplot:xlabel='Age', ylabel='Percent'>"
      ]
     },
     "execution_count": 15,
     "metadata": {},
     "output_type": "execute_result"
    },
    {
     "data": {
      "image/png": "[encoded data removed]",
      "text/plain": [
       "<Figure size 432x288 with 1 Axes>"
      ]
     },
     "metadata": {
      "needs_background": "light"
     },
     "output_type": "display_data"
    }
   ],
   "source": [
    "sns.histplot(data=DF,x='Age',hue='Hypertension',kde=True,stat='percent')\n",
    "\n"
   ]
  },
  {
   "cell_type": "code",
   "execution_count": 16,
   "metadata": {},
   "outputs": [
    {
     "data": {
      "text/plain": [
       "<AxesSubplot:xlabel='PhysActivity', ylabel='count'>"
      ]
     },
     "execution_count": 16,
     "metadata": {},
     "output_type": "execute_result"
    },
    {
     "data": {
      "image/png": "[encoded data removed]",
      "text/plain": [
       "<Figure size 432x288 with 1 Axes>"
      ]
     },
     "metadata": {
      "needs_background": "light"
     },
     "output_type": "display_data"
    }
   ],
   "source": [
    "sns.countplot(data=DF,x='PhysActivity',hue='Hypertension')"
   ]
  },
  {
   "cell_type": "code",
   "execution_count": 17,
   "metadata": {},
   "outputs": [
    {
     "data": {
      "text/html": [
       "<style type=\"text/css\">\n",
       "#T_ee404_row0_col0, #T_ee404_row1_col1, #T_ee404_row2_col2, #T_ee404_row3_col3, #T_ee404_row4_col4, #T_ee404_row5_col5, #T_ee404_row6_col6, #T_ee404_row7_col7, #T_ee404_row8_col8, #T_ee404_row9_col9, #T_ee404_row10_col10, #T_ee404_row11_col11, #T_ee404_row12_col12, #T_ee404_row13_col13, #T_ee404_row14_col14, #T_ee404_row15_col15 {\n",
       "  background-color: #b40426;\n",
       "  color: #f1f1f1;\n",
       "}\n",
       "#T_ee404_row0_col1, #T_ee404_row4_col3, #T_ee404_row9_col10 {\n",
       "  background-color: #516ddb;\n",
       "  color: #f1f1f1;\n",
       "}\n",
       "#T_ee404_row0_col2, #T_ee404_row4_col14, #T_ee404_row8_col9, #T_ee404_row15_col13 {\n",
       "  background-color: #a3c2fe;\n",
       "  color: #000000;\n",
       "}\n",
       "#T_ee404_row0_col3, #T_ee404_row4_col0, #T_ee404_row6_col7, #T_ee404_row10_col12 {\n",
       "  background-color: #6282ea;\n",
       "  color: #f1f1f1;\n",
       "}\n",
       "#T_ee404_row0_col4, #T_ee404_row15_col1 {\n",
       "  background-color: #6485ec;\n",
       "  color: #f1f1f1;\n",
       "}\n",
       "#T_ee404_row0_col5, #T_ee404_row1_col6, #T_ee404_row4_col1 {\n",
       "  background-color: #7597f6;\n",
       "  color: #f1f1f1;\n",
       "}\n",
       "#T_ee404_row0_col6, #T_ee404_row11_col2 {\n",
       "  background-color: #9ebeff;\n",
       "  color: #000000;\n",
       "}\n",
       "#T_ee404_row0_col7, #T_ee404_row7_col1, #T_ee404_row9_col13, #T_ee404_row10_col9, #T_ee404_row15_col3 {\n",
       "  background-color: #6180e9;\n",
       "  color: #f1f1f1;\n",
       "}\n",
       "#T_ee404_row0_col8, #T_ee404_row8_col13, #T_ee404_row12_col4 {\n",
       "  background-color: #6788ee;\n",
       "  color: #f1f1f1;\n",
       "}\n",
       "#T_ee404_row0_col9, #T_ee404_row3_col1, #T_ee404_row11_col3 {\n",
       "  background-color: #5470de;\n",
       "  color: #f1f1f1;\n",
       "}\n",
       "#T_ee404_row0_col10, #T_ee404_row1_col8, #T_ee404_row7_col0, #T_ee404_row7_col2, #T_ee404_row7_col4, #T_ee404_row7_col5, #T_ee404_row7_col6, #T_ee404_row7_col11, #T_ee404_row7_col12, #T_ee404_row7_col13, #T_ee404_row7_col14, #T_ee404_row7_col15, #T_ee404_row8_col1, #T_ee404_row8_col5, #T_ee404_row10_col3, #T_ee404_row11_col7, #T_ee404_row11_col8, #T_ee404_row11_col9, #T_ee404_row14_col7 {\n",
       "  background-color: #3b4cc0;\n",
       "  color: #f1f1f1;\n",
       "}\n",
       "#T_ee404_row0_col11 {\n",
       "  background-color: #b1cbfc;\n",
       "  color: #000000;\n",
       "}\n",
       "#T_ee404_row0_col12, #T_ee404_row9_col1, #T_ee404_row13_col10 {\n",
       "  background-color: #4358cb;\n",
       "  color: #f1f1f1;\n",
       "}\n",
       "#T_ee404_row0_col13, #T_ee404_row2_col6 {\n",
       "  background-color: #90b2fe;\n",
       "  color: #000000;\n",
       "}\n",
       "#T_ee404_row0_col14 {\n",
       "  background-color: #b6cefa;\n",
       "  color: #000000;\n",
       "}\n",
       "#T_ee404_row0_col15, #T_ee404_row6_col11 {\n",
       "  background-color: #cad8ef;\n",
       "  color: #000000;\n",
       "}\n",
       "#T_ee404_row1_col0 {\n",
       "  background-color: #5572df;\n",
       "  color: #f1f1f1;\n",
       "}\n",
       "#T_ee404_row1_col2, #T_ee404_row4_col5 {\n",
       "  background-color: #5a78e4;\n",
       "  color: #f1f1f1;\n",
       "}\n",
       "#T_ee404_row1_col3, #T_ee404_row5_col3, #T_ee404_row6_col10, #T_ee404_row7_col3, #T_ee404_row8_col10 {\n",
       "  background-color: #4055c8;\n",
       "  color: #f1f1f1;\n",
       "}\n",
       "#T_ee404_row1_col4, #T_ee404_row5_col0, #T_ee404_row5_col15 {\n",
       "  background-color: #7a9df8;\n",
       "  color: #f1f1f1;\n",
       "}\n",
       "#T_ee404_row1_col5, #T_ee404_row13_col0 {\n",
       "  background-color: #7699f6;\n",
       "  color: #f1f1f1;\n",
       "}\n",
       "#T_ee404_row1_col7, #T_ee404_row3_col14, #T_ee404_row7_col9 {\n",
       "  background-color: #88abfd;\n",
       "  color: #000000;\n",
       "}\n",
       "#T_ee404_row1_col9, #T_ee404_row2_col8 {\n",
       "  background-color: #4961d2;\n",
       "  color: #f1f1f1;\n",
       "}\n",
       "#T_ee404_row1_col10, #T_ee404_row14_col3 {\n",
       "  background-color: #4e68d8;\n",
       "  color: #f1f1f1;\n",
       "}\n",
       "#T_ee404_row1_col11 {\n",
       "  background-color: #7ea1fa;\n",
       "  color: #f1f1f1;\n",
       "}\n",
       "#T_ee404_row1_col12, #T_ee404_row8_col2, #T_ee404_row15_col10 {\n",
       "  background-color: #455cce;\n",
       "  color: #f1f1f1;\n",
       "}\n",
       "#T_ee404_row1_col13, #T_ee404_row3_col4, #T_ee404_row8_col0, #T_ee404_row10_col5, #T_ee404_row12_col2 {\n",
       "  background-color: #6a8bef;\n",
       "  color: #f1f1f1;\n",
       "}\n",
       "#T_ee404_row1_col14, #T_ee404_row1_col15, #T_ee404_row3_col2, #T_ee404_row15_col12 {\n",
       "  background-color: #6c8ff1;\n",
       "  color: #f1f1f1;\n",
       "}\n",
       "#T_ee404_row2_col0, #T_ee404_row2_col14, #T_ee404_row4_col15, #T_ee404_row9_col7 {\n",
       "  background-color: #a7c5fe;\n",
       "  color: #000000;\n",
       "}\n",
       "#T_ee404_row2_col1, #T_ee404_row2_col3, #T_ee404_row9_col11, #T_ee404_row12_col7 {\n",
       "  background-color: #5d7ce6;\n",
       "  color: #f1f1f1;\n",
       "}\n",
       "#T_ee404_row2_col4, #T_ee404_row4_col13 {\n",
       "  background-color: #8badfd;\n",
       "  color: #000000;\n",
       "}\n",
       "#T_ee404_row2_col5, #T_ee404_row5_col2, #T_ee404_row6_col4, #T_ee404_row10_col11, #T_ee404_row12_col5, #T_ee404_row15_col5 {\n",
       "  background-color: #6f92f3;\n",
       "  color: #f1f1f1;\n",
       "}\n",
       "#T_ee404_row2_col7, #T_ee404_row5_col7, #T_ee404_row9_col14 {\n",
       "  background-color: #6687ed;\n",
       "  color: #f1f1f1;\n",
       "}\n",
       "#T_ee404_row2_col9, #T_ee404_row6_col3, #T_ee404_row6_col8, #T_ee404_row7_col10 {\n",
       "  background-color: #4f69d9;\n",
       "  color: #f1f1f1;\n",
       "}\n",
       "#T_ee404_row2_col10, #T_ee404_row3_col10, #T_ee404_row8_col4, #T_ee404_row12_col8, #T_ee404_row13_col7, #T_ee404_row14_col1, #T_ee404_row14_col9 {\n",
       "  background-color: #445acc;\n",
       "  color: #f1f1f1;\n",
       "}\n",
       "#T_ee404_row2_col11, #T_ee404_row2_col15 {\n",
       "  background-color: #bfd3f6;\n",
       "  color: #000000;\n",
       "}\n",
       "#T_ee404_row2_col12, #T_ee404_row6_col1 {\n",
       "  background-color: #7396f5;\n",
       "  color: #f1f1f1;\n",
       "}\n",
       "#T_ee404_row2_col13 {\n",
       "  background-color: #9bbcff;\n",
       "  color: #000000;\n",
       "}\n",
       "#T_ee404_row3_col0, #T_ee404_row5_col1 {\n",
       "  background-color: #779af7;\n",
       "  color: #f1f1f1;\n",
       "}\n",
       "#T_ee404_row3_col5, #T_ee404_row5_col9, #T_ee404_row6_col9, #T_ee404_row8_col6, #T_ee404_row9_col0 {\n",
       "  background-color: #506bda;\n",
       "  color: #f1f1f1;\n",
       "}\n",
       "#T_ee404_row3_col6, #T_ee404_row5_col4, #T_ee404_row5_col10, #T_ee404_row8_col11 {\n",
       "  background-color: #6384eb;\n",
       "  color: #f1f1f1;\n",
       "}\n",
       "#T_ee404_row3_col7, #T_ee404_row3_col15 {\n",
       "  background-color: #7b9ff9;\n",
       "  color: #f1f1f1;\n",
       "}\n",
       "#T_ee404_row3_col8, #T_ee404_row3_col9, #T_ee404_row15_col7 {\n",
       "  background-color: #5b7ae5;\n",
       "  color: #f1f1f1;\n",
       "}\n",
       "#T_ee404_row3_col11 {\n",
       "  background-color: #8db0fe;\n",
       "  color: #000000;\n",
       "}\n",
       "#T_ee404_row3_col12 {\n",
       "  background-color: #5875e1;\n",
       "  color: #f1f1f1;\n",
       "}\n",
       "#T_ee404_row3_col13, #T_ee404_row5_col6, #T_ee404_row7_col8, #T_ee404_row13_col2 {\n",
       "  background-color: #7da0f9;\n",
       "  color: #f1f1f1;\n",
       "}\n",
       "#T_ee404_row4_col2, #T_ee404_row14_col2 {\n",
       "  background-color: #82a6fb;\n",
       "  color: #f1f1f1;\n",
       "}\n",
       "#T_ee404_row4_col6, #T_ee404_row10_col13, #T_ee404_row12_col6 {\n",
       "  background-color: #6b8df0;\n",
       "  color: #f1f1f1;\n",
       "}\n",
       "#T_ee404_row4_col7 {\n",
       "  background-color: #5e7de7;\n",
       "  color: #f1f1f1;\n",
       "}\n",
       "#T_ee404_row4_col8, #T_ee404_row12_col0, #T_ee404_row14_col10 {\n",
       "  background-color: #3f53c6;\n",
       "  color: #f1f1f1;\n",
       "}\n",
       "#T_ee404_row4_col9, #T_ee404_row9_col12, #T_ee404_row12_col9 {\n",
       "  background-color: #4c66d6;\n",
       "  color: #f1f1f1;\n",
       "}\n",
       "#T_ee404_row4_col10, #T_ee404_row12_col3 {\n",
       "  background-color: #3d50c3;\n",
       "  color: #f1f1f1;\n",
       "}\n",
       "#T_ee404_row4_col11 {\n",
       "  background-color: #b5cdfa;\n",
       "  color: #000000;\n",
       "}\n",
       "#T_ee404_row4_col12 {\n",
       "  background-color: #688aef;\n",
       "  color: #f1f1f1;\n",
       "}\n",
       "#T_ee404_row5_col8, #T_ee404_row12_col1 {\n",
       "  background-color: #3e51c5;\n",
       "  color: #f1f1f1;\n",
       "}\n",
       "#T_ee404_row5_col11, #T_ee404_row6_col13 {\n",
       "  background-color: #abc8fd;\n",
       "  color: #000000;\n",
       "}\n",
       "#T_ee404_row5_col12, #T_ee404_row6_col5, #T_ee404_row13_col5, #T_ee404_row14_col5 {\n",
       "  background-color: #799cf8;\n",
       "  color: #f1f1f1;\n",
       "}\n",
       "#T_ee404_row5_col13, #T_ee404_row11_col4, #T_ee404_row14_col0 {\n",
       "  background-color: #98b9ff;\n",
       "  color: #000000;\n",
       "}\n",
       "#T_ee404_row5_col14, #T_ee404_row6_col0, #T_ee404_row6_col15, #T_ee404_row9_col8, #T_ee404_row14_col15 {\n",
       "  background-color: #9fbfff;\n",
       "  color: #000000;\n",
       "}\n",
       "#T_ee404_row6_col2 {\n",
       "  background-color: #8caffe;\n",
       "  color: #000000;\n",
       "}\n",
       "#T_ee404_row6_col12, #T_ee404_row8_col14 {\n",
       "  background-color: #7093f3;\n",
       "  color: #f1f1f1;\n",
       "}\n",
       "#T_ee404_row6_col14, #T_ee404_row12_col14 {\n",
       "  background-color: #bed2f6;\n",
       "  color: #000000;\n",
       "}\n",
       "#T_ee404_row8_col3, #T_ee404_row9_col5, #T_ee404_row13_col8, #T_ee404_row13_col9, #T_ee404_row14_col8, #T_ee404_row15_col9 {\n",
       "  background-color: #485fd1;\n",
       "  color: #f1f1f1;\n",
       "}\n",
       "#T_ee404_row8_col7 {\n",
       "  background-color: #a2c1ff;\n",
       "  color: #000000;\n",
       "}\n",
       "#T_ee404_row8_col12, #T_ee404_row9_col15, #T_ee404_row10_col8 {\n",
       "  background-color: #4a63d3;\n",
       "  color: #f1f1f1;\n",
       "}\n",
       "#T_ee404_row8_col15, #T_ee404_row12_col10 {\n",
       "  background-color: #536edd;\n",
       "  color: #f1f1f1;\n",
       "}\n",
       "#T_ee404_row9_col2, #T_ee404_row10_col0 {\n",
       "  background-color: #465ecf;\n",
       "  color: #f1f1f1;\n",
       "}\n",
       "#T_ee404_row9_col3 {\n",
       "  background-color: #4257c9;\n",
       "  color: #f1f1f1;\n",
       "}\n",
       "#T_ee404_row9_col4, #T_ee404_row9_col6, #T_ee404_row10_col2, #T_ee404_row10_col4, #T_ee404_row10_col6, #T_ee404_row13_col1, #T_ee404_row13_col3, #T_ee404_row15_col8 {\n",
       "  background-color: #4b64d5;\n",
       "  color: #f1f1f1;\n",
       "}\n",
       "#T_ee404_row10_col1, #T_ee404_row10_col15, #T_ee404_row11_col1 {\n",
       "  background-color: #5673e0;\n",
       "  color: #f1f1f1;\n",
       "}\n",
       "#T_ee404_row10_col7 {\n",
       "  background-color: #81a4fb;\n",
       "  color: #f1f1f1;\n",
       "}\n",
       "#T_ee404_row10_col14, #T_ee404_row13_col4 {\n",
       "  background-color: #7295f4;\n",
       "  color: #f1f1f1;\n",
       "}\n",
       "#T_ee404_row11_col0 {\n",
       "  background-color: #92b4fe;\n",
       "  color: #000000;\n",
       "}\n",
       "#T_ee404_row11_col5, #T_ee404_row14_col4 {\n",
       "  background-color: #85a8fc;\n",
       "  color: #f1f1f1;\n",
       "}\n",
       "#T_ee404_row11_col6 {\n",
       "  background-color: #aec9fc;\n",
       "  color: #000000;\n",
       "}\n",
       "#T_ee404_row11_col10 {\n",
       "  background-color: #3c4ec2;\n",
       "  color: #f1f1f1;\n",
       "}\n",
       "#T_ee404_row11_col12, #T_ee404_row15_col14 {\n",
       "  background-color: #b9d0f9;\n",
       "  color: #000000;\n",
       "}\n",
       "#T_ee404_row11_col13 {\n",
       "  background-color: #f4c5ad;\n",
       "  color: #000000;\n",
       "}\n",
       "#T_ee404_row11_col14, #T_ee404_row14_col11, #T_ee404_row14_col13 {\n",
       "  background-color: #edd1c2;\n",
       "  color: #000000;\n",
       "}\n",
       "#T_ee404_row11_col15 {\n",
       "  background-color: #bcd2f7;\n",
       "  color: #000000;\n",
       "}\n",
       "#T_ee404_row12_col11 {\n",
       "  background-color: #cedaeb;\n",
       "  color: #000000;\n",
       "}\n",
       "#T_ee404_row12_col13 {\n",
       "  background-color: #d8dce2;\n",
       "  color: #000000;\n",
       "}\n",
       "#T_ee404_row12_col15 {\n",
       "  background-color: #6e90f2;\n",
       "  color: #f1f1f1;\n",
       "}\n",
       "#T_ee404_row13_col6 {\n",
       "  background-color: #93b5fe;\n",
       "  color: #000000;\n",
       "}\n",
       "#T_ee404_row13_col11 {\n",
       "  background-color: #f5c1a9;\n",
       "  color: #000000;\n",
       "}\n",
       "#T_ee404_row13_col12 {\n",
       "  background-color: #ccd9ed;\n",
       "  color: #000000;\n",
       "}\n",
       "#T_ee404_row13_col14 {\n",
       "  background-color: #efcebd;\n",
       "  color: #000000;\n",
       "}\n",
       "#T_ee404_row13_col15 {\n",
       "  background-color: #8fb1fe;\n",
       "  color: #000000;\n",
       "}\n",
       "#T_ee404_row14_col6 {\n",
       "  background-color: #a1c0ff;\n",
       "  color: #000000;\n",
       "}\n",
       "#T_ee404_row14_col12 {\n",
       "  background-color: #a6c4fe;\n",
       "  color: #000000;\n",
       "}\n",
       "#T_ee404_row15_col0 {\n",
       "  background-color: #c7d7f0;\n",
       "  color: #000000;\n",
       "}\n",
       "#T_ee404_row15_col2 {\n",
       "  background-color: #b7cff9;\n",
       "  color: #000000;\n",
       "}\n",
       "#T_ee404_row15_col4 {\n",
       "  background-color: #a5c3fe;\n",
       "  color: #000000;\n",
       "}\n",
       "#T_ee404_row15_col6 {\n",
       "  background-color: #9abbff;\n",
       "  color: #000000;\n",
       "}\n",
       "#T_ee404_row15_col11 {\n",
       "  background-color: #d1dae9;\n",
       "  color: #000000;\n",
       "}\n",
       "</style>\n",
       "<table id=\"T_ee404\">\n",
       "  <thead>\n",
       "    <tr>\n",
       "      <th class=\"blank level0\" >&nbsp;</th>\n",
       "      <th id=\"T_ee404_level0_col0\" class=\"col_heading level0 col0\" >Age</th>\n",
       "      <th id=\"T_ee404_level0_col1\" class=\"col_heading level0 col1\" >Sex</th>\n",
       "      <th id=\"T_ee404_level0_col2\" class=\"col_heading level0 col2\" >HighChol</th>\n",
       "      <th id=\"T_ee404_level0_col3\" class=\"col_heading level0 col3\" >CholCheck</th>\n",
       "      <th id=\"T_ee404_level0_col4\" class=\"col_heading level0 col4\" >BMI</th>\n",
       "      <th id=\"T_ee404_level0_col5\" class=\"col_heading level0 col5\" >Smoker</th>\n",
       "      <th id=\"T_ee404_level0_col6\" class=\"col_heading level0 col6\" >HeartDiseaseorAttack</th>\n",
       "      <th id=\"T_ee404_level0_col7\" class=\"col_heading level0 col7\" >PhysActivity</th>\n",
       "      <th id=\"T_ee404_level0_col8\" class=\"col_heading level0 col8\" >Fruits</th>\n",
       "      <th id=\"T_ee404_level0_col9\" class=\"col_heading level0 col9\" >Veggies</th>\n",
       "      <th id=\"T_ee404_level0_col10\" class=\"col_heading level0 col10\" >HvyAlcoholConsump</th>\n",
       "      <th id=\"T_ee404_level0_col11\" class=\"col_heading level0 col11\" >GenHlth</th>\n",
       "      <th id=\"T_ee404_level0_col12\" class=\"col_heading level0 col12\" >MentHlth</th>\n",
       "      <th id=\"T_ee404_level0_col13\" class=\"col_heading level0 col13\" >PhysHlth</th>\n",
       "      <th id=\"T_ee404_level0_col14\" class=\"col_heading level0 col14\" >DiffWalk</th>\n",
       "      <th id=\"T_ee404_level0_col15\" class=\"col_heading level0 col15\" >Hypertension</th>\n",
       "    </tr>\n",
       "  </thead>\n",
       "  <tbody>\n",
       "    <tr>\n",
       "      <th id=\"T_ee404_level0_row0\" class=\"row_heading level0 row0\" >Age</th>\n",
       "      <td id=\"T_ee404_row0_col0\" class=\"data row0 col0\" >1.000000</td>\n",
       "      <td id=\"T_ee404_row0_col1\" class=\"data row0 col1\" >-0.009134</td>\n",
       "      <td id=\"T_ee404_row0_col2\" class=\"data row0 col2\" >0.254952</td>\n",
       "      <td id=\"T_ee404_row0_col3\" class=\"data row0 col3\" >0.104730</td>\n",
       "      <td id=\"T_ee404_row0_col4\" class=\"data row0 col4\" >0.035297</td>\n",
       "      <td id=\"T_ee404_row0_col5\" class=\"data row0 col5\" >0.110209</td>\n",
       "      <td id=\"T_ee404_row0_col6\" class=\"data row0 col6\" >0.229899</td>\n",
       "      <td id=\"T_ee404_row0_col7\" class=\"data row0 col7\" >-0.106484</td>\n",
       "      <td id=\"T_ee404_row0_col8\" class=\"data row0 col8\" >0.058730</td>\n",
       "      <td id=\"T_ee404_row0_col9\" class=\"data row0 col9\" >-0.024763</td>\n",
       "      <td id=\"T_ee404_row0_col10\" class=\"data row0 col10\" >-0.060790</td>\n",
       "      <td id=\"T_ee404_row0_col11\" class=\"data row0 col11\" >0.184531</td>\n",
       "      <td id=\"T_ee404_row0_col12\" class=\"data row0 col12\" >-0.088420</td>\n",
       "      <td id=\"T_ee404_row0_col13\" class=\"data row0 col13\" >0.098893</td>\n",
       "      <td id=\"T_ee404_row0_col14\" class=\"data row0 col14\" >0.205714</td>\n",
       "      <td id=\"T_ee404_row0_col15\" class=\"data row0 col15\" >0.360668</td>\n",
       "    </tr>\n",
       "    <tr>\n",
       "      <th id=\"T_ee404_level0_row1\" class=\"row_heading level0 row1\" >Sex</th>\n",
       "      <td id=\"T_ee404_row1_col0\" class=\"data row1 col0\" >-0.009134</td>\n",
       "      <td id=\"T_ee404_row1_col1\" class=\"data row1 col1\" >1.000000</td>\n",
       "      <td id=\"T_ee404_row1_col2\" class=\"data row1 col2\" >0.026302</td>\n",
       "      <td id=\"T_ee404_row1_col3\" class=\"data row1 col3\" >-0.004476</td>\n",
       "      <td id=\"T_ee404_row1_col4\" class=\"data row1 col4\" >0.104797</td>\n",
       "      <td id=\"T_ee404_row1_col5\" class=\"data row1 col5\" >0.114420</td>\n",
       "      <td id=\"T_ee404_row1_col6\" class=\"data row1 col6\" >0.101068</td>\n",
       "      <td id=\"T_ee404_row1_col7\" class=\"data row1 col7\" >0.039199</td>\n",
       "      <td id=\"T_ee404_row1_col8\" class=\"data row1 col8\" >-0.094281</td>\n",
       "      <td id=\"T_ee404_row1_col9\" class=\"data row1 col9\" >-0.063326</td>\n",
       "      <td id=\"T_ee404_row1_col10\" class=\"data row1 col10\" >0.007635</td>\n",
       "      <td id=\"T_ee404_row1_col11\" class=\"data row1 col11\" >0.004074</td>\n",
       "      <td id=\"T_ee404_row1_col12\" class=\"data row1 col12\" >-0.080409</td>\n",
       "      <td id=\"T_ee404_row1_col13\" class=\"data row1 col13\" >-0.033681</td>\n",
       "      <td id=\"T_ee404_row1_col14\" class=\"data row1 col14\" >-0.059495</td>\n",
       "      <td id=\"T_ee404_row1_col15\" class=\"data row1 col15\" >0.052613</td>\n",
       "    </tr>\n",
       "    <tr>\n",
       "      <th id=\"T_ee404_level0_row2\" class=\"row_heading level0 row2\" >HighChol</th>\n",
       "      <td id=\"T_ee404_row2_col0\" class=\"data row2 col0\" >0.254952</td>\n",
       "      <td id=\"T_ee404_row2_col1\" class=\"data row2 col1\" >0.026302</td>\n",
       "      <td id=\"T_ee404_row2_col2\" class=\"data row2 col2\" >1.000000</td>\n",
       "      <td id=\"T_ee404_row2_col3\" class=\"data row2 col3\" >0.087500</td>\n",
       "      <td id=\"T_ee404_row2_col4\" class=\"data row2 col4\" >0.155975</td>\n",
       "      <td id=\"T_ee404_row2_col5\" class=\"data row2 col5\" >0.095302</td>\n",
       "      <td id=\"T_ee404_row2_col6\" class=\"data row2 col6\" >0.185800</td>\n",
       "      <td id=\"T_ee404_row2_col7\" class=\"data row2 col7\" >-0.085567</td>\n",
       "      <td id=\"T_ee404_row2_col8\" class=\"data row2 col8\" >-0.044134</td>\n",
       "      <td id=\"T_ee404_row2_col9\" class=\"data row2 col9\" >-0.042162</td>\n",
       "      <td id=\"T_ee404_row2_col10\" class=\"data row2 col10\" >-0.023789</td>\n",
       "      <td id=\"T_ee404_row2_col11\" class=\"data row2 col11\" >0.237005</td>\n",
       "      <td id=\"T_ee404_row2_col12\" class=\"data row2 col12\" >0.079371</td>\n",
       "      <td id=\"T_ee404_row2_col13\" class=\"data row2 col13\" >0.135392</td>\n",
       "      <td id=\"T_ee404_row2_col14\" class=\"data row2 col14\" >0.152156</td>\n",
       "      <td id=\"T_ee404_row2_col15\" class=\"data row2 col15\" >0.319821</td>\n",
       "    </tr>\n",
       "    <tr>\n",
       "      <th id=\"T_ee404_level0_row3\" class=\"row_heading level0 row3\" >CholCheck</th>\n",
       "      <td id=\"T_ee404_row3_col0\" class=\"data row3 col0\" >0.104730</td>\n",
       "      <td id=\"T_ee404_row3_col1\" class=\"data row3 col1\" >-0.004476</td>\n",
       "      <td id=\"T_ee404_row3_col2\" class=\"data row3 col2\" >0.087500</td>\n",
       "      <td id=\"T_ee404_row3_col3\" class=\"data row3 col3\" >1.000000</td>\n",
       "      <td id=\"T_ee404_row3_col4\" class=\"data row3 col4\" >0.052927</td>\n",
       "      <td id=\"T_ee404_row3_col5\" class=\"data row3 col5\" >-0.006241</td>\n",
       "      <td id=\"T_ee404_row3_col6\" class=\"data row3 col6\" >0.044013</td>\n",
       "      <td id=\"T_ee404_row3_col7\" class=\"data row3 col7\" >-0.004935</td>\n",
       "      <td id=\"T_ee404_row3_col8\" class=\"data row3 col8\" >0.020440</td>\n",
       "      <td id=\"T_ee404_row3_col9\" class=\"data row3 col9\" >0.000411</td>\n",
       "      <td id=\"T_ee404_row3_col10\" class=\"data row3 col10\" >-0.027043</td>\n",
       "      <td id=\"T_ee404_row3_col11\" class=\"data row3 col11\" >0.058445</td>\n",
       "      <td id=\"T_ee404_row3_col12\" class=\"data row3 col12\" >-0.015589</td>\n",
       "      <td id=\"T_ee404_row3_col13\" class=\"data row3 col13\" >0.031470</td>\n",
       "      <td id=\"T_ee404_row3_col14\" class=\"data row3 col14\" >0.040590</td>\n",
       "      <td id=\"T_ee404_row3_col15\" class=\"data row3 col15\" >0.101223</td>\n",
       "    </tr>\n",
       "    <tr>\n",
       "      <th id=\"T_ee404_level0_row4\" class=\"row_heading level0 row4\" >BMI</th>\n",
       "      <td id=\"T_ee404_row4_col0\" class=\"data row4 col0\" >0.035297</td>\n",
       "      <td id=\"T_ee404_row4_col1\" class=\"data row4 col1\" >0.104797</td>\n",
       "      <td id=\"T_ee404_row4_col2\" class=\"data row4 col2\" >0.155975</td>\n",
       "      <td id=\"T_ee404_row4_col3\" class=\"data row4 col3\" >0.052927</td>\n",
       "      <td id=\"T_ee404_row4_col4\" class=\"data row4 col4\" >1.000000</td>\n",
       "      <td id=\"T_ee404_row4_col5\" class=\"data row4 col5\" >0.028739</td>\n",
       "      <td id=\"T_ee404_row4_col6\" class=\"data row4 col6\" >0.072204</td>\n",
       "      <td id=\"T_ee404_row4_col7\" class=\"data row4 col7\" >-0.115046</td>\n",
       "      <td id=\"T_ee404_row4_col8\" class=\"data row4 col8\" >-0.077309</td>\n",
       "      <td id=\"T_ee404_row4_col9\" class=\"data row4 col9\" >-0.049924</td>\n",
       "      <td id=\"T_ee404_row4_col10\" class=\"data row4 col10\" >-0.050410</td>\n",
       "      <td id=\"T_ee404_row4_col11\" class=\"data row4 col11\" >0.200572</td>\n",
       "      <td id=\"T_ee404_row4_col12\" class=\"data row4 col12\" >0.042639</td>\n",
       "      <td id=\"T_ee404_row4_col13\" class=\"data row4 col13\" >0.078214</td>\n",
       "      <td id=\"T_ee404_row4_col14\" class=\"data row4 col14\" >0.140181</td>\n",
       "      <td id=\"T_ee404_row4_col15\" class=\"data row4 col15\" >0.240672</td>\n",
       "    </tr>\n",
       "    <tr>\n",
       "      <th id=\"T_ee404_level0_row5\" class=\"row_heading level0 row5\" >Smoker</th>\n",
       "      <td id=\"T_ee404_row5_col0\" class=\"data row5 col0\" >0.110209</td>\n",
       "      <td id=\"T_ee404_row5_col1\" class=\"data row5 col1\" >0.114420</td>\n",
       "      <td id=\"T_ee404_row5_col2\" class=\"data row5 col2\" >0.095302</td>\n",
       "      <td id=\"T_ee404_row5_col3\" class=\"data row5 col3\" >-0.006241</td>\n",
       "      <td id=\"T_ee404_row5_col4\" class=\"data row5 col4\" >0.028739</td>\n",
       "      <td id=\"T_ee404_row5_col5\" class=\"data row5 col5\" >1.000000</td>\n",
       "      <td id=\"T_ee404_row5_col6\" class=\"data row5 col6\" >0.124585</td>\n",
       "      <td id=\"T_ee404_row5_col7\" class=\"data row5 col7\" >-0.085279</td>\n",
       "      <td id=\"T_ee404_row5_col8\" class=\"data row5 col8\" >-0.081415</td>\n",
       "      <td id=\"T_ee404_row5_col9\" class=\"data row5 col9\" >-0.035779</td>\n",
       "      <td id=\"T_ee404_row5_col10\" class=\"data row5 col10\" >0.079093</td>\n",
       "      <td id=\"T_ee404_row5_col11\" class=\"data row5 col11\" >0.162949</td>\n",
       "      <td id=\"T_ee404_row5_col12\" class=\"data row5 col12\" >0.094416</td>\n",
       "      <td id=\"T_ee404_row5_col13\" class=\"data row5 col13\" >0.125031</td>\n",
       "      <td id=\"T_ee404_row5_col14\" class=\"data row5 col14\" >0.124784</td>\n",
       "      <td id=\"T_ee404_row5_col15\" class=\"data row5 col15\" >0.096387</td>\n",
       "    </tr>\n",
       "    <tr>\n",
       "      <th id=\"T_ee404_level0_row6\" class=\"row_heading level0 row6\" >HeartDiseaseorAttack</th>\n",
       "      <td id=\"T_ee404_row6_col0\" class=\"data row6 col0\" >0.229899</td>\n",
       "      <td id=\"T_ee404_row6_col1\" class=\"data row6 col1\" >0.101068</td>\n",
       "      <td id=\"T_ee404_row6_col2\" class=\"data row6 col2\" >0.185800</td>\n",
       "      <td id=\"T_ee404_row6_col3\" class=\"data row6 col3\" >0.044013</td>\n",
       "      <td id=\"T_ee404_row6_col4\" class=\"data row6 col4\" >0.072204</td>\n",
       "      <td id=\"T_ee404_row6_col5\" class=\"data row6 col5\" >0.124585</td>\n",
       "      <td id=\"T_ee404_row6_col6\" class=\"data row6 col6\" >1.000000</td>\n",
       "      <td id=\"T_ee404_row6_col7\" class=\"data row6 col7\" >-0.099220</td>\n",
       "      <td id=\"T_ee404_row6_col8\" class=\"data row6 col8\" >-0.020057</td>\n",
       "      <td id=\"T_ee404_row6_col9\" class=\"data row6 col9\" >-0.037835</td>\n",
       "      <td id=\"T_ee404_row6_col10\" class=\"data row6 col10\" >-0.038029</td>\n",
       "      <td id=\"T_ee404_row6_col11\" class=\"data row6 col11\" >0.281439</td>\n",
       "      <td id=\"T_ee404_row6_col12\" class=\"data row6 col12\" >0.069291</td>\n",
       "      <td id=\"T_ee404_row6_col13\" class=\"data row6 col13\" >0.194936</td>\n",
       "      <td id=\"T_ee404_row6_col14\" class=\"data row6 col14\" >0.236420</td>\n",
       "      <td id=\"T_ee404_row6_col15\" class=\"data row6 col15\" >0.218195</td>\n",
       "    </tr>\n",
       "    <tr>\n",
       "      <th id=\"T_ee404_level0_row7\" class=\"row_heading level0 row7\" >PhysActivity</th>\n",
       "      <td id=\"T_ee404_row7_col0\" class=\"data row7 col0\" >-0.106484</td>\n",
       "      <td id=\"T_ee404_row7_col1\" class=\"data row7 col1\" >0.039199</td>\n",
       "      <td id=\"T_ee404_row7_col2\" class=\"data row7 col2\" >-0.085567</td>\n",
       "      <td id=\"T_ee404_row7_col3\" class=\"data row7 col3\" >-0.004935</td>\n",
       "      <td id=\"T_ee404_row7_col4\" class=\"data row7 col4\" >-0.115046</td>\n",
       "      <td id=\"T_ee404_row7_col5\" class=\"data row7 col5\" >-0.085279</td>\n",
       "      <td id=\"T_ee404_row7_col6\" class=\"data row7 col6\" >-0.099220</td>\n",
       "      <td id=\"T_ee404_row7_col7\" class=\"data row7 col7\" >1.000000</td>\n",
       "      <td id=\"T_ee404_row7_col8\" class=\"data row7 col8\" >0.131094</td>\n",
       "      <td id=\"T_ee404_row7_col9\" class=\"data row7 col9\" >0.148028</td>\n",
       "      <td id=\"T_ee404_row7_col10\" class=\"data row7 col10\" >0.013050</td>\n",
       "      <td id=\"T_ee404_row7_col11\" class=\"data row7 col11\" >-0.260729</td>\n",
       "      <td id=\"T_ee404_row7_col12\" class=\"data row7 col12\" >-0.120842</td>\n",
       "      <td id=\"T_ee404_row7_col13\" class=\"data row7 col13\" >-0.218976</td>\n",
       "      <td id=\"T_ee404_row7_col14\" class=\"data row7 col14\" >-0.256613</td>\n",
       "      <td id=\"T_ee404_row7_col15\" class=\"data row7 col15\" >-0.124078</td>\n",
       "    </tr>\n",
       "    <tr>\n",
       "      <th id=\"T_ee404_level0_row8\" class=\"row_heading level0 row8\" >Fruits</th>\n",
       "      <td id=\"T_ee404_row8_col0\" class=\"data row8 col0\" >0.058730</td>\n",
       "      <td id=\"T_ee404_row8_col1\" class=\"data row8 col1\" >-0.094281</td>\n",
       "      <td id=\"T_ee404_row8_col2\" class=\"data row8 col2\" >-0.044134</td>\n",
       "      <td id=\"T_ee404_row8_col3\" class=\"data row8 col3\" >0.020440</td>\n",
       "      <td id=\"T_ee404_row8_col4\" class=\"data row8 col4\" >-0.077309</td>\n",
       "      <td id=\"T_ee404_row8_col5\" class=\"data row8 col5\" >-0.081415</td>\n",
       "      <td id=\"T_ee404_row8_col6\" class=\"data row8 col6\" >-0.020057</td>\n",
       "      <td id=\"T_ee404_row8_col7\" class=\"data row8 col7\" >0.131094</td>\n",
       "      <td id=\"T_ee404_row8_col8\" class=\"data row8 col8\" >1.000000</td>\n",
       "      <td id=\"T_ee404_row8_col9\" class=\"data row8 col9\" >0.235184</td>\n",
       "      <td id=\"T_ee404_row8_col10\" class=\"data row8 col10\" >-0.038787</td>\n",
       "      <td id=\"T_ee404_row8_col11\" class=\"data row8 col11\" >-0.095638</td>\n",
       "      <td id=\"T_ee404_row8_col12\" class=\"data row8 col12\" >-0.060469</td>\n",
       "      <td id=\"T_ee404_row8_col13\" class=\"data row8 col13\" >-0.045280</td>\n",
       "      <td id=\"T_ee404_row8_col14\" class=\"data row8 col14\" >-0.044503</td>\n",
       "      <td id=\"T_ee404_row8_col15\" class=\"data row8 col15\" >-0.034972</td>\n",
       "    </tr>\n",
       "    <tr>\n",
       "      <th id=\"T_ee404_level0_row9\" class=\"row_heading level0 row9\" >Veggies</th>\n",
       "      <td id=\"T_ee404_row9_col0\" class=\"data row9 col0\" >-0.024763</td>\n",
       "      <td id=\"T_ee404_row9_col1\" class=\"data row9 col1\" >-0.063326</td>\n",
       "      <td id=\"T_ee404_row9_col2\" class=\"data row9 col2\" >-0.042162</td>\n",
       "      <td id=\"T_ee404_row9_col3\" class=\"data row9 col3\" >0.000411</td>\n",
       "      <td id=\"T_ee404_row9_col4\" class=\"data row9 col4\" >-0.049924</td>\n",
       "      <td id=\"T_ee404_row9_col5\" class=\"data row9 col5\" >-0.035779</td>\n",
       "      <td id=\"T_ee404_row9_col6\" class=\"data row9 col6\" >-0.037835</td>\n",
       "      <td id=\"T_ee404_row9_col7\" class=\"data row9 col7\" >0.148028</td>\n",
       "      <td id=\"T_ee404_row9_col8\" class=\"data row9 col8\" >0.235184</td>\n",
       "      <td id=\"T_ee404_row9_col9\" class=\"data row9 col9\" >1.000000</td>\n",
       "      <td id=\"T_ee404_row9_col10\" class=\"data row9 col10\" >0.021021</td>\n",
       "      <td id=\"T_ee404_row9_col11\" class=\"data row9 col11\" >-0.118416</td>\n",
       "      <td id=\"T_ee404_row9_col12\" class=\"data row9 col12\" >-0.052568</td>\n",
       "      <td id=\"T_ee404_row9_col13\" class=\"data row9 col13\" >-0.068435</td>\n",
       "      <td id=\"T_ee404_row9_col14\" class=\"data row9 col14\" >-0.083265</td>\n",
       "      <td id=\"T_ee404_row9_col15\" class=\"data row9 col15\" >-0.066305</td>\n",
       "    </tr>\n",
       "    <tr>\n",
       "      <th id=\"T_ee404_level0_row10\" class=\"row_heading level0 row10\" >HvyAlcoholConsump</th>\n",
       "      <td id=\"T_ee404_row10_col0\" class=\"data row10 col0\" >-0.060790</td>\n",
       "      <td id=\"T_ee404_row10_col1\" class=\"data row10 col1\" >0.007635</td>\n",
       "      <td id=\"T_ee404_row10_col2\" class=\"data row10 col2\" >-0.023789</td>\n",
       "      <td id=\"T_ee404_row10_col3\" class=\"data row10 col3\" >-0.027043</td>\n",
       "      <td id=\"T_ee404_row10_col4\" class=\"data row10 col4\" >-0.050410</td>\n",
       "      <td id=\"T_ee404_row10_col5\" class=\"data row10 col5\" >0.079093</td>\n",
       "      <td id=\"T_ee404_row10_col6\" class=\"data row10 col6\" >-0.038029</td>\n",
       "      <td id=\"T_ee404_row10_col7\" class=\"data row10 col7\" >0.013050</td>\n",
       "      <td id=\"T_ee404_row10_col8\" class=\"data row10 col8\" >-0.038787</td>\n",
       "      <td id=\"T_ee404_row10_col9\" class=\"data row10 col9\" >0.021021</td>\n",
       "      <td id=\"T_ee404_row10_col10\" class=\"data row10 col10\" >1.000000</td>\n",
       "      <td id=\"T_ee404_row10_col11\" class=\"data row10 col11\" >-0.053394</td>\n",
       "      <td id=\"T_ee404_row10_col12\" class=\"data row10 col12\" >0.022740</td>\n",
       "      <td id=\"T_ee404_row10_col13\" class=\"data row10 col13\" >-0.031707</td>\n",
       "      <td id=\"T_ee404_row10_col14\" class=\"data row10 col14\" >-0.040514</td>\n",
       "      <td id=\"T_ee404_row10_col15\" class=\"data row10 col15\" >-0.022237</td>\n",
       "    </tr>\n",
       "    <tr>\n",
       "      <th id=\"T_ee404_level0_row11\" class=\"row_heading level0 row11\" >GenHlth</th>\n",
       "      <td id=\"T_ee404_row11_col0\" class=\"data row11 col0\" >0.184531</td>\n",
       "      <td id=\"T_ee404_row11_col1\" class=\"data row11 col1\" >0.004074</td>\n",
       "      <td id=\"T_ee404_row11_col2\" class=\"data row11 col2\" >0.237005</td>\n",
       "      <td id=\"T_ee404_row11_col3\" class=\"data row11 col3\" >0.058445</td>\n",
       "      <td id=\"T_ee404_row11_col4\" class=\"data row11 col4\" >0.200572</td>\n",
       "      <td id=\"T_ee404_row11_col5\" class=\"data row11 col5\" >0.162949</td>\n",
       "      <td id=\"T_ee404_row11_col6\" class=\"data row11 col6\" >0.281439</td>\n",
       "      <td id=\"T_ee404_row11_col7\" class=\"data row11 col7\" >-0.260729</td>\n",
       "      <td id=\"T_ee404_row11_col8\" class=\"data row11 col8\" >-0.095638</td>\n",
       "      <td id=\"T_ee404_row11_col9\" class=\"data row11 col9\" >-0.118416</td>\n",
       "      <td id=\"T_ee404_row11_col10\" class=\"data row11 col10\" >-0.053394</td>\n",
       "      <td id=\"T_ee404_row11_col11\" class=\"data row11 col11\" >1.000000</td>\n",
       "      <td id=\"T_ee404_row11_col12\" class=\"data row11 col12\" >0.301692</td>\n",
       "      <td id=\"T_ee404_row11_col13\" class=\"data row11 col13\" >0.540824</td>\n",
       "      <td id=\"T_ee404_row11_col14\" class=\"data row11 col14\" >0.460136</td>\n",
       "      <td id=\"T_ee404_row11_col15\" class=\"data row11 col15\" >0.312732</td>\n",
       "    </tr>\n",
       "    <tr>\n",
       "      <th id=\"T_ee404_level0_row12\" class=\"row_heading level0 row12\" >MentHlth</th>\n",
       "      <td id=\"T_ee404_row12_col0\" class=\"data row12 col0\" >-0.088420</td>\n",
       "      <td id=\"T_ee404_row12_col1\" class=\"data row12 col1\" >-0.080409</td>\n",
       "      <td id=\"T_ee404_row12_col2\" class=\"data row12 col2\" >0.079371</td>\n",
       "      <td id=\"T_ee404_row12_col3\" class=\"data row12 col3\" >-0.015589</td>\n",
       "      <td id=\"T_ee404_row12_col4\" class=\"data row12 col4\" >0.042639</td>\n",
       "      <td id=\"T_ee404_row12_col5\" class=\"data row12 col5\" >0.094416</td>\n",
       "      <td id=\"T_ee404_row12_col6\" class=\"data row12 col6\" >0.069291</td>\n",
       "      <td id=\"T_ee404_row12_col7\" class=\"data row12 col7\" >-0.120842</td>\n",
       "      <td id=\"T_ee404_row12_col8\" class=\"data row12 col8\" >-0.060469</td>\n",
       "      <td id=\"T_ee404_row12_col9\" class=\"data row12 col9\" >-0.052568</td>\n",
       "      <td id=\"T_ee404_row12_col10\" class=\"data row12 col10\" >0.022740</td>\n",
       "      <td id=\"T_ee404_row12_col11\" class=\"data row12 col11\" >0.301692</td>\n",
       "      <td id=\"T_ee404_row12_col12\" class=\"data row12 col12\" >1.000000</td>\n",
       "      <td id=\"T_ee404_row12_col13\" class=\"data row12 col13\" >0.370343</td>\n",
       "      <td id=\"T_ee404_row12_col14\" class=\"data row12 col14\" >0.238803</td>\n",
       "      <td id=\"T_ee404_row12_col15\" class=\"data row12 col15\" >0.057331</td>\n",
       "    </tr>\n",
       "    <tr>\n",
       "      <th id=\"T_ee404_level0_row13\" class=\"row_heading level0 row13\" >PhysHlth</th>\n",
       "      <td id=\"T_ee404_row13_col0\" class=\"data row13 col0\" >0.098893</td>\n",
       "      <td id=\"T_ee404_row13_col1\" class=\"data row13 col1\" >-0.033681</td>\n",
       "      <td id=\"T_ee404_row13_col2\" class=\"data row13 col2\" >0.135392</td>\n",
       "      <td id=\"T_ee404_row13_col3\" class=\"data row13 col3\" >0.031470</td>\n",
       "      <td id=\"T_ee404_row13_col4\" class=\"data row13 col4\" >0.078214</td>\n",
       "      <td id=\"T_ee404_row13_col5\" class=\"data row13 col5\" >0.125031</td>\n",
       "      <td id=\"T_ee404_row13_col6\" class=\"data row13 col6\" >0.194936</td>\n",
       "      <td id=\"T_ee404_row13_col7\" class=\"data row13 col7\" >-0.218976</td>\n",
       "      <td id=\"T_ee404_row13_col8\" class=\"data row13 col8\" >-0.045280</td>\n",
       "      <td id=\"T_ee404_row13_col9\" class=\"data row13 col9\" >-0.068435</td>\n",
       "      <td id=\"T_ee404_row13_col10\" class=\"data row13 col10\" >-0.031707</td>\n",
       "      <td id=\"T_ee404_row13_col11\" class=\"data row13 col11\" >0.540824</td>\n",
       "      <td id=\"T_ee404_row13_col12\" class=\"data row13 col12\" >0.370343</td>\n",
       "      <td id=\"T_ee404_row13_col13\" class=\"data row13 col13\" >1.000000</td>\n",
       "      <td id=\"T_ee404_row13_col14\" class=\"data row13 col14\" >0.477473</td>\n",
       "      <td id=\"T_ee404_row13_col15\" class=\"data row13 col15\" >0.164665</td>\n",
       "    </tr>\n",
       "    <tr>\n",
       "      <th id=\"T_ee404_level0_row14\" class=\"row_heading level0 row14\" >DiffWalk</th>\n",
       "      <td id=\"T_ee404_row14_col0\" class=\"data row14 col0\" >0.205714</td>\n",
       "      <td id=\"T_ee404_row14_col1\" class=\"data row14 col1\" >-0.059495</td>\n",
       "      <td id=\"T_ee404_row14_col2\" class=\"data row14 col2\" >0.152156</td>\n",
       "      <td id=\"T_ee404_row14_col3\" class=\"data row14 col3\" >0.040590</td>\n",
       "      <td id=\"T_ee404_row14_col4\" class=\"data row14 col4\" >0.140181</td>\n",
       "      <td id=\"T_ee404_row14_col5\" class=\"data row14 col5\" >0.124784</td>\n",
       "      <td id=\"T_ee404_row14_col6\" class=\"data row14 col6\" >0.236420</td>\n",
       "      <td id=\"T_ee404_row14_col7\" class=\"data row14 col7\" >-0.256613</td>\n",
       "      <td id=\"T_ee404_row14_col8\" class=\"data row14 col8\" >-0.044503</td>\n",
       "      <td id=\"T_ee404_row14_col9\" class=\"data row14 col9\" >-0.083265</td>\n",
       "      <td id=\"T_ee404_row14_col10\" class=\"data row14 col10\" >-0.040514</td>\n",
       "      <td id=\"T_ee404_row14_col11\" class=\"data row14 col11\" >0.460136</td>\n",
       "      <td id=\"T_ee404_row14_col12\" class=\"data row14 col12\" >0.238803</td>\n",
       "      <td id=\"T_ee404_row14_col13\" class=\"data row14 col13\" >0.477473</td>\n",
       "      <td id=\"T_ee404_row14_col14\" class=\"data row14 col14\" >1.000000</td>\n",
       "      <td id=\"T_ee404_row14_col15\" class=\"data row14 col15\" >0.217782</td>\n",
       "    </tr>\n",
       "    <tr>\n",
       "      <th id=\"T_ee404_level0_row15\" class=\"row_heading level0 row15\" >Hypertension</th>\n",
       "      <td id=\"T_ee404_row15_col0\" class=\"data row15 col0\" >0.360668</td>\n",
       "      <td id=\"T_ee404_row15_col1\" class=\"data row15 col1\" >0.052613</td>\n",
       "      <td id=\"T_ee404_row15_col2\" class=\"data row15 col2\" >0.319821</td>\n",
       "      <td id=\"T_ee404_row15_col3\" class=\"data row15 col3\" >0.101223</td>\n",
       "      <td id=\"T_ee404_row15_col4\" class=\"data row15 col4\" >0.240672</td>\n",
       "      <td id=\"T_ee404_row15_col5\" class=\"data row15 col5\" >0.096387</td>\n",
       "      <td id=\"T_ee404_row15_col6\" class=\"data row15 col6\" >0.218195</td>\n",
       "      <td id=\"T_ee404_row15_col7\" class=\"data row15 col7\" >-0.124078</td>\n",
       "      <td id=\"T_ee404_row15_col8\" class=\"data row15 col8\" >-0.034972</td>\n",
       "      <td id=\"T_ee404_row15_col9\" class=\"data row15 col9\" >-0.066305</td>\n",
       "      <td id=\"T_ee404_row15_col10\" class=\"data row15 col10\" >-0.022237</td>\n",
       "      <td id=\"T_ee404_row15_col11\" class=\"data row15 col11\" >0.312732</td>\n",
       "      <td id=\"T_ee404_row15_col12\" class=\"data row15 col12\" >0.057331</td>\n",
       "      <td id=\"T_ee404_row15_col13\" class=\"data row15 col13\" >0.164665</td>\n",
       "      <td id=\"T_ee404_row15_col14\" class=\"data row15 col14\" >0.217782</td>\n",
       "      <td id=\"T_ee404_row15_col15\" class=\"data row15 col15\" >1.000000</td>\n",
       "    </tr>\n",
       "  </tbody>\n",
       "</table>\n"
      ],
      "text/plain": [
       "<pandas.io.formats.style.Styler at 0x7fc660f1f940>"
      ]
     },
     "execution_count": 17,
     "metadata": {},
     "output_type": "execute_result"
    }
   ],
   "source": [
    "DF.corr().style.background_gradient(cmap='coolwarm')\n"
   ]
  },
  {
   "cell_type": "markdown",
   "metadata": {},
   "source": [
    "# Modeling\n",
    "\n",
    "**Train/Test Split**"
   ]
  },
  {
   "cell_type": "code",
   "execution_count": 37,
   "metadata": {},
   "outputs": [],
   "source": [
    "X_train, X_test, y_train, y_test = train_test_split(DF.iloc[:,0:-1],DF.iloc[:, -1], test_size= 0.20)"
   ]
  },
  {
   "cell_type": "markdown",
   "metadata": {},
   "source": [
    "**Model 0 - LogisticRegression**"
   ]
  },
  {
   "cell_type": "code",
   "execution_count": 38,
   "metadata": {},
   "outputs": [
    {
     "name": "stderr",
     "output_type": "stream",
     "text": [
      "/Library/Frameworks/Python.framework/Versions/3.8/lib/python3.8/site-packages/sklearn/linear_model/_logistic.py:444: ConvergenceWarning: lbfgs failed to converge (status=1):\n",
      "STOP: TOTAL NO. of ITERATIONS REACHED LIMIT.\n",
      "\n",
      "Increase the number of iterations (max_iter) or scale the data as shown in:\n",
      "    https://scikit-learn.org/stable/modules/preprocessing.html\n",
      "Please also refer to the documentation for alternative solver options:\n",
      "    https://scikit-learn.org/stable/modules/linear_model.html#logistic-regression\n",
      "  n_iter_i = _check_optimize_result(\n"
     ]
    },
    {
     "data": {
      "text/html": [
       "<style>#sk-container-id-8 {color: black;background-color: white;}#sk-container-id-8 pre{padding: 0;}#sk-container-id-8 div.sk-toggleable {background-color: white;}#sk-container-id-8 label.sk-toggleable__label {cursor: pointer;display: block;width: 100%;margin-bottom: 0;padding: 0.3em;box-sizing: border-box;text-align: center;}#sk-container-id-8 label.sk-toggleable__label-arrow:before {content: \"▸\";float: left;margin-right: 0.25em;color: #696969;}#sk-container-id-8 label.sk-toggleable__label-arrow:hover:before {color: black;}#sk-container-id-8 div.sk-estimator:hover label.sk-toggleable__label-arrow:before {color: black;}#sk-container-id-8 div.sk-toggleable__content {max-height: 0;max-width: 0;overflow: hidden;text-align: left;background-color: #f0f8ff;}#sk-container-id-8 div.sk-toggleable__content pre {margin: 0.2em;color: black;border-radius: 0.25em;background-color: #f0f8ff;}#sk-container-id-8 input.sk-toggleable__control:checked~div.sk-toggleable__content {max-height: 200px;max-width: 100%;overflow: auto;}#sk-container-id-8 input.sk-toggleable__control:checked~label.sk-toggleable__label-arrow:before {content: \"▾\";}#sk-container-id-8 div.sk-estimator input.sk-toggleable__control:checked~label.sk-toggleable__label {background-color: #d4ebff;}#sk-container-id-8 div.sk-label input.sk-toggleable__control:checked~label.sk-toggleable__label {background-color: #d4ebff;}#sk-container-id-8 input.sk-hidden--visually {border: 0;clip: rect(1px 1px 1px 1px);clip: rect(1px, 1px, 1px, 1px);height: 1px;margin: -1px;overflow: hidden;padding: 0;position: absolute;width: 1px;}#sk-container-id-8 div.sk-estimator {font-family: monospace;background-color: #f0f8ff;border: 1px dotted black;border-radius: 0.25em;box-sizing: border-box;margin-bottom: 0.5em;}#sk-container-id-8 div.sk-estimator:hover {background-color: #d4ebff;}#sk-container-id-8 div.sk-parallel-item::after {content: \"\";width: 100%;border-bottom: 1px solid gray;flex-grow: 1;}#sk-container-id-8 div.sk-label:hover label.sk-toggleable__label {background-color: #d4ebff;}#sk-container-id-8 div.sk-serial::before {content: \"\";position: absolute;border-left: 1px solid gray;box-sizing: border-box;top: 0;bottom: 0;left: 50%;z-index: 0;}#sk-container-id-8 div.sk-serial {display: flex;flex-direction: column;align-items: center;background-color: white;padding-right: 0.2em;padding-left: 0.2em;position: relative;}#sk-container-id-8 div.sk-item {position: relative;z-index: 1;}#sk-container-id-8 div.sk-parallel {display: flex;align-items: stretch;justify-content: center;background-color: white;position: relative;}#sk-container-id-8 div.sk-item::before, #sk-container-id-8 div.sk-parallel-item::before {content: \"\";position: absolute;border-left: 1px solid gray;box-sizing: border-box;top: 0;bottom: 0;left: 50%;z-index: -1;}#sk-container-id-8 div.sk-parallel-item {display: flex;flex-direction: column;z-index: 1;position: relative;background-color: white;}#sk-container-id-8 div.sk-parallel-item:first-child::after {align-self: flex-end;width: 50%;}#sk-container-id-8 div.sk-parallel-item:last-child::after {align-self: flex-start;width: 50%;}#sk-container-id-8 div.sk-parallel-item:only-child::after {width: 0;}#sk-container-id-8 div.sk-dashed-wrapped {border: 1px dashed gray;margin: 0 0.4em 0.5em 0.4em;box-sizing: border-box;padding-bottom: 0.4em;background-color: white;}#sk-container-id-8 div.sk-label label {font-family: monospace;font-weight: bold;display: inline-block;line-height: 1.2em;}#sk-container-id-8 div.sk-label-container {text-align: center;}#sk-container-id-8 div.sk-container {/* jupyter's `normalize.less` sets `[hidden] { display: none; }` but bootstrap.min.css set `[hidden] { display: none !important; }` so we also need the `!important` here to be able to override the default hidden behavior on the sphinx rendered scikit-learn.org. See: https://github.com/scikit-learn/scikit-learn/issues/21755 */display: inline-block !important;position: relative;}#sk-container-id-8 div.sk-text-repr-fallback {display: none;}</style><div id=\"sk-container-id-8\" class=\"sk-top-container\"><div class=\"sk-text-repr-fallback\"><pre>LogisticRegression()</pre><b>In a Jupyter environment, please rerun this cell to show the HTML representation or trust the notebook. <br />On GitHub, the HTML representation is unable to render, please try loading this page with nbviewer.org.</b></div><div class=\"sk-container\" hidden><div class=\"sk-item\"><div class=\"sk-estimator sk-toggleable\"><input class=\"sk-toggleable__control sk-hidden--visually\" id=\"sk-estimator-id-8\" type=\"checkbox\" checked><label for=\"sk-estimator-id-8\" class=\"sk-toggleable__label sk-toggleable__label-arrow\">LogisticRegression</label><div class=\"sk-toggleable__content\"><pre>LogisticRegression()</pre></div></div></div></div></div>"
      ],
      "text/plain": [
       "LogisticRegression()"
      ]
     },
     "execution_count": 38,
     "metadata": {},
     "output_type": "execute_result"
    }
   ],
   "source": [
    "model = LogisticRegression()\n",
    "model.fit(X_train,y_train)"
   ]
  },
  {
   "cell_type": "code",
   "execution_count": 39,
   "metadata": {},
   "outputs": [
    {
     "name": "stdout",
     "output_type": "stream",
     "text": [
      "Classification Report: \n",
      "              precision    recall  f1-score   support\n",
      "\n",
      "           0       0.72      0.65      0.68      5693\n",
      "           1       0.71      0.78      0.74      6397\n",
      "\n",
      "    accuracy                           0.72     12090\n",
      "   macro avg       0.72      0.71      0.71     12090\n",
      "weighted avg       0.72      0.72      0.72     12090\n",
      "\n",
      "Accuracy score: \n",
      "0.7180314309346567\n",
      "Confusion Matrix: \n",
      "[[3704 1989]\n",
      " [1420 4977]]\n"
     ]
    }
   ],
   "source": [
    "predicted = model.predict(X_test)\n",
    "matrix = confusion_matrix(y_test, predicted)\n",
    "\n",
    "\n",
    "print('Classification Report: ')\n",
    "print(classification_report(y_test, predicted))\n",
    "\n",
    "print('Accuracy score: ')\n",
    "print(accuracy_score(y_test, predicted))\n",
    "\n",
    "\n",
    "print('Confusion Matrix: ')\n",
    "print(matrix)"
   ]
  },
  {
   "cell_type": "markdown",
   "metadata": {},
   "source": [
    "**Model 1 - SGB-Classifier**"
   ]
  },
  {
   "cell_type": "code",
   "execution_count": 50,
   "metadata": {},
   "outputs": [
    {
     "data": {
      "text/html": [
       "<style>#sk-container-id-15 {color: black;background-color: white;}#sk-container-id-15 pre{padding: 0;}#sk-container-id-15 div.sk-toggleable {background-color: white;}#sk-container-id-15 label.sk-toggleable__label {cursor: pointer;display: block;width: 100%;margin-bottom: 0;padding: 0.3em;box-sizing: border-box;text-align: center;}#sk-container-id-15 label.sk-toggleable__label-arrow:before {content: \"▸\";float: left;margin-right: 0.25em;color: #696969;}#sk-container-id-15 label.sk-toggleable__label-arrow:hover:before {color: black;}#sk-container-id-15 div.sk-estimator:hover label.sk-toggleable__label-arrow:before {color: black;}#sk-container-id-15 div.sk-toggleable__content {max-height: 0;max-width: 0;overflow: hidden;text-align: left;background-color: #f0f8ff;}#sk-container-id-15 div.sk-toggleable__content pre {margin: 0.2em;color: black;border-radius: 0.25em;background-color: #f0f8ff;}#sk-container-id-15 input.sk-toggleable__control:checked~div.sk-toggleable__content {max-height: 200px;max-width: 100%;overflow: auto;}#sk-container-id-15 input.sk-toggleable__control:checked~label.sk-toggleable__label-arrow:before {content: \"▾\";}#sk-container-id-15 div.sk-estimator input.sk-toggleable__control:checked~label.sk-toggleable__label {background-color: #d4ebff;}#sk-container-id-15 div.sk-label input.sk-toggleable__control:checked~label.sk-toggleable__label {background-color: #d4ebff;}#sk-container-id-15 input.sk-hidden--visually {border: 0;clip: rect(1px 1px 1px 1px);clip: rect(1px, 1px, 1px, 1px);height: 1px;margin: -1px;overflow: hidden;padding: 0;position: absolute;width: 1px;}#sk-container-id-15 div.sk-estimator {font-family: monospace;background-color: #f0f8ff;border: 1px dotted black;border-radius: 0.25em;box-sizing: border-box;margin-bottom: 0.5em;}#sk-container-id-15 div.sk-estimator:hover {background-color: #d4ebff;}#sk-container-id-15 div.sk-parallel-item::after {content: \"\";width: 100%;border-bottom: 1px solid gray;flex-grow: 1;}#sk-container-id-15 div.sk-label:hover label.sk-toggleable__label {background-color: #d4ebff;}#sk-container-id-15 div.sk-serial::before {content: \"\";position: absolute;border-left: 1px solid gray;box-sizing: border-box;top: 0;bottom: 0;left: 50%;z-index: 0;}#sk-container-id-15 div.sk-serial {display: flex;flex-direction: column;align-items: center;background-color: white;padding-right: 0.2em;padding-left: 0.2em;position: relative;}#sk-container-id-15 div.sk-item {position: relative;z-index: 1;}#sk-container-id-15 div.sk-parallel {display: flex;align-items: stretch;justify-content: center;background-color: white;position: relative;}#sk-container-id-15 div.sk-item::before, #sk-container-id-15 div.sk-parallel-item::before {content: \"\";position: absolute;border-left: 1px solid gray;box-sizing: border-box;top: 0;bottom: 0;left: 50%;z-index: -1;}#sk-container-id-15 div.sk-parallel-item {display: flex;flex-direction: column;z-index: 1;position: relative;background-color: white;}#sk-container-id-15 div.sk-parallel-item:first-child::after {align-self: flex-end;width: 50%;}#sk-container-id-15 div.sk-parallel-item:last-child::after {align-self: flex-start;width: 50%;}#sk-container-id-15 div.sk-parallel-item:only-child::after {width: 0;}#sk-container-id-15 div.sk-dashed-wrapped {border: 1px dashed gray;margin: 0 0.4em 0.5em 0.4em;box-sizing: border-box;padding-bottom: 0.4em;background-color: white;}#sk-container-id-15 div.sk-label label {font-family: monospace;font-weight: bold;display: inline-block;line-height: 1.2em;}#sk-container-id-15 div.sk-label-container {text-align: center;}#sk-container-id-15 div.sk-container {/* jupyter's `normalize.less` sets `[hidden] { display: none; }` but bootstrap.min.css set `[hidden] { display: none !important; }` so we also need the `!important` here to be able to override the default hidden behavior on the sphinx rendered scikit-learn.org. See: https://github.com/scikit-learn/scikit-learn/issues/21755 */display: inline-block !important;position: relative;}#sk-container-id-15 div.sk-text-repr-fallback {display: none;}</style><div id=\"sk-container-id-15\" class=\"sk-top-container\"><div class=\"sk-text-repr-fallback\"><pre>XGBClassifier(base_score=0.5, booster=&#x27;gbtree&#x27;, callbacks=None,\n",
       "              colsample_bylevel=1, colsample_bynode=1, colsample_bytree=1,\n",
       "              early_stopping_rounds=None, enable_categorical=False,\n",
       "              eval_metric=None, feature_types=None, gamma=0, gpu_id=-1,\n",
       "              grow_policy=&#x27;depthwise&#x27;, importance_type=None,\n",
       "              interaction_constraints=&#x27;&#x27;, learning_rate=0.300000012,\n",
       "              max_bin=256, max_cat_threshold=64, max_cat_to_onehot=4,\n",
       "              max_delta_step=0, max_depth=6, max_leaves=0, min_child_weight=1,\n",
       "              missing=nan, monotone_constraints=&#x27;()&#x27;, n_estimators=100,\n",
       "              n_jobs=0, num_parallel_tree=1, predictor=&#x27;auto&#x27;, random_state=0, ...)</pre><b>In a Jupyter environment, please rerun this cell to show the HTML representation or trust the notebook. <br />On GitHub, the HTML representation is unable to render, please try loading this page with nbviewer.org.</b></div><div class=\"sk-container\" hidden><div class=\"sk-item\"><div class=\"sk-estimator sk-toggleable\"><input class=\"sk-toggleable__control sk-hidden--visually\" id=\"sk-estimator-id-15\" type=\"checkbox\" checked><label for=\"sk-estimator-id-15\" class=\"sk-toggleable__label sk-toggleable__label-arrow\">XGBClassifier</label><div class=\"sk-toggleable__content\"><pre>XGBClassifier(base_score=0.5, booster=&#x27;gbtree&#x27;, callbacks=None,\n",
       "              colsample_bylevel=1, colsample_bynode=1, colsample_bytree=1,\n",
       "              early_stopping_rounds=None, enable_categorical=False,\n",
       "              eval_metric=None, feature_types=None, gamma=0, gpu_id=-1,\n",
       "              grow_policy=&#x27;depthwise&#x27;, importance_type=None,\n",
       "              interaction_constraints=&#x27;&#x27;, learning_rate=0.300000012,\n",
       "              max_bin=256, max_cat_threshold=64, max_cat_to_onehot=4,\n",
       "              max_delta_step=0, max_depth=6, max_leaves=0, min_child_weight=1,\n",
       "              missing=nan, monotone_constraints=&#x27;()&#x27;, n_estimators=100,\n",
       "              n_jobs=0, num_parallel_tree=1, predictor=&#x27;auto&#x27;, random_state=0, ...)</pre></div></div></div></div></div>"
      ],
      "text/plain": [
       "XGBClassifier(base_score=0.5, booster='gbtree', callbacks=None,\n",
       "              colsample_bylevel=1, colsample_bynode=1, colsample_bytree=1,\n",
       "              early_stopping_rounds=None, enable_categorical=False,\n",
       "              eval_metric=None, feature_types=None, gamma=0, gpu_id=-1,\n",
       "              grow_policy='depthwise', importance_type=None,\n",
       "              interaction_constraints='', learning_rate=0.300000012,\n",
       "              max_bin=256, max_cat_threshold=64, max_cat_to_onehot=4,\n",
       "              max_delta_step=0, max_depth=6, max_leaves=0, min_child_weight=1,\n",
       "              missing=nan, monotone_constraints='()', n_estimators=100,\n",
       "              n_jobs=0, num_parallel_tree=1, predictor='auto', random_state=0, ...)"
      ]
     },
     "execution_count": 50,
     "metadata": {},
     "output_type": "execute_result"
    }
   ],
   "source": [
    "# fit model no training data\n",
    "model = XGBClassifier()\n",
    "model.fit(X_train, y_train)"
   ]
  },
  {
   "cell_type": "code",
   "execution_count": 48,
   "metadata": {},
   "outputs": [
    {
     "name": "stdout",
     "output_type": "stream",
     "text": [
      "Classification Report: \n",
      "              precision    recall  f1-score   support\n",
      "\n",
      "           0       0.73      0.65      0.69      5693\n",
      "           1       0.72      0.79      0.75      6397\n",
      "\n",
      "    accuracy                           0.72     12090\n",
      "   macro avg       0.73      0.72      0.72     12090\n",
      "weighted avg       0.73      0.72      0.72     12090\n",
      "\n",
      "Accuracy score: \n",
      "0.7241521918941274\n",
      "Confusion Matrix: \n",
      "[[3704 1989]\n",
      " [1346 5051]]\n"
     ]
    }
   ],
   "source": [
    "predicted = model.predict(X_test)\n",
    "matrix = confusion_matrix(y_test, predicted)\n",
    "\n",
    "\n",
    "print('Classification Report: ')\n",
    "print(classification_report(y_test, predicted))\n",
    "\n",
    "print('Accuracy score: ')\n",
    "print(accuracy_score(y_test, predicted))\n",
    "\n",
    "\n",
    "print('Confusion Matrix: ')\n",
    "print(matrix)"
   ]
  },
  {
   "cell_type": "markdown",
   "metadata": {},
   "source": [
    "**Model 2 - DecisionTree**"
   ]
  },
  {
   "cell_type": "code",
   "execution_count": 52,
   "metadata": {},
   "outputs": [
    {
     "data": {
      "text/html": [
       "<style>#sk-container-id-16 {color: black;background-color: white;}#sk-container-id-16 pre{padding: 0;}#sk-container-id-16 div.sk-toggleable {background-color: white;}#sk-container-id-16 label.sk-toggleable__label {cursor: pointer;display: block;width: 100%;margin-bottom: 0;padding: 0.3em;box-sizing: border-box;text-align: center;}#sk-container-id-16 label.sk-toggleable__label-arrow:before {content: \"▸\";float: left;margin-right: 0.25em;color: #696969;}#sk-container-id-16 label.sk-toggleable__label-arrow:hover:before {color: black;}#sk-container-id-16 div.sk-estimator:hover label.sk-toggleable__label-arrow:before {color: black;}#sk-container-id-16 div.sk-toggleable__content {max-height: 0;max-width: 0;overflow: hidden;text-align: left;background-color: #f0f8ff;}#sk-container-id-16 div.sk-toggleable__content pre {margin: 0.2em;color: black;border-radius: 0.25em;background-color: #f0f8ff;}#sk-container-id-16 input.sk-toggleable__control:checked~div.sk-toggleable__content {max-height: 200px;max-width: 100%;overflow: auto;}#sk-container-id-16 input.sk-toggleable__control:checked~label.sk-toggleable__label-arrow:before {content: \"▾\";}#sk-container-id-16 div.sk-estimator input.sk-toggleable__control:checked~label.sk-toggleable__label {background-color: #d4ebff;}#sk-container-id-16 div.sk-label input.sk-toggleable__control:checked~label.sk-toggleable__label {background-color: #d4ebff;}#sk-container-id-16 input.sk-hidden--visually {border: 0;clip: rect(1px 1px 1px 1px);clip: rect(1px, 1px, 1px, 1px);height: 1px;margin: -1px;overflow: hidden;padding: 0;position: absolute;width: 1px;}#sk-container-id-16 div.sk-estimator {font-family: monospace;background-color: #f0f8ff;border: 1px dotted black;border-radius: 0.25em;box-sizing: border-box;margin-bottom: 0.5em;}#sk-container-id-16 div.sk-estimator:hover {background-color: #d4ebff;}#sk-container-id-16 div.sk-parallel-item::after {content: \"\";width: 100%;border-bottom: 1px solid gray;flex-grow: 1;}#sk-container-id-16 div.sk-label:hover label.sk-toggleable__label {background-color: #d4ebff;}#sk-container-id-16 div.sk-serial::before {content: \"\";position: absolute;border-left: 1px solid gray;box-sizing: border-box;top: 0;bottom: 0;left: 50%;z-index: 0;}#sk-container-id-16 div.sk-serial {display: flex;flex-direction: column;align-items: center;background-color: white;padding-right: 0.2em;padding-left: 0.2em;position: relative;}#sk-container-id-16 div.sk-item {position: relative;z-index: 1;}#sk-container-id-16 div.sk-parallel {display: flex;align-items: stretch;justify-content: center;background-color: white;position: relative;}#sk-container-id-16 div.sk-item::before, #sk-container-id-16 div.sk-parallel-item::before {content: \"\";position: absolute;border-left: 1px solid gray;box-sizing: border-box;top: 0;bottom: 0;left: 50%;z-index: -1;}#sk-container-id-16 div.sk-parallel-item {display: flex;flex-direction: column;z-index: 1;position: relative;background-color: white;}#sk-container-id-16 div.sk-parallel-item:first-child::after {align-self: flex-end;width: 50%;}#sk-container-id-16 div.sk-parallel-item:last-child::after {align-self: flex-start;width: 50%;}#sk-container-id-16 div.sk-parallel-item:only-child::after {width: 0;}#sk-container-id-16 div.sk-dashed-wrapped {border: 1px dashed gray;margin: 0 0.4em 0.5em 0.4em;box-sizing: border-box;padding-bottom: 0.4em;background-color: white;}#sk-container-id-16 div.sk-label label {font-family: monospace;font-weight: bold;display: inline-block;line-height: 1.2em;}#sk-container-id-16 div.sk-label-container {text-align: center;}#sk-container-id-16 div.sk-container {/* jupyter's `normalize.less` sets `[hidden] { display: none; }` but bootstrap.min.css set `[hidden] { display: none !important; }` so we also need the `!important` here to be able to override the default hidden behavior on the sphinx rendered scikit-learn.org. See: https://github.com/scikit-learn/scikit-learn/issues/21755 */display: inline-block !important;position: relative;}#sk-container-id-16 div.sk-text-repr-fallback {display: none;}</style><div id=\"sk-container-id-16\" class=\"sk-top-container\"><div class=\"sk-text-repr-fallback\"><pre>DecisionTreeClassifier()</pre><b>In a Jupyter environment, please rerun this cell to show the HTML representation or trust the notebook. <br />On GitHub, the HTML representation is unable to render, please try loading this page with nbviewer.org.</b></div><div class=\"sk-container\" hidden><div class=\"sk-item\"><div class=\"sk-estimator sk-toggleable\"><input class=\"sk-toggleable__control sk-hidden--visually\" id=\"sk-estimator-id-16\" type=\"checkbox\" checked><label for=\"sk-estimator-id-16\" class=\"sk-toggleable__label sk-toggleable__label-arrow\">DecisionTreeClassifier</label><div class=\"sk-toggleable__content\"><pre>DecisionTreeClassifier()</pre></div></div></div></div></div>"
      ],
      "text/plain": [
       "DecisionTreeClassifier()"
      ]
     },
     "execution_count": 52,
     "metadata": {},
     "output_type": "execute_result"
    }
   ],
   "source": [
    "model = DecisionTreeClassifier()\n",
    "model.fit(X_train, y_train)"
   ]
  },
  {
   "cell_type": "code",
   "execution_count": 53,
   "metadata": {},
   "outputs": [
    {
     "name": "stdout",
     "output_type": "stream",
     "text": [
      "Classification Report: \n",
      "              precision    recall  f1-score   support\n",
      "\n",
      "           0       0.61      0.64      0.62      5693\n",
      "           1       0.66      0.63      0.65      6397\n",
      "\n",
      "    accuracy                           0.63     12090\n",
      "   macro avg       0.63      0.63      0.63     12090\n",
      "weighted avg       0.64      0.63      0.63     12090\n",
      "\n",
      "Accuracy score: \n",
      "0.63424317617866\n",
      "Confusion Matrix: \n",
      "[[3639 2054]\n",
      " [2368 4029]]\n"
     ]
    }
   ],
   "source": [
    "predicted = model.predict(X_test)\n",
    "matrix = confusion_matrix(y_test, predicted)\n",
    "\n",
    "\n",
    "print('Classification Report: ')\n",
    "print(classification_report(y_test, predicted))\n",
    "\n",
    "print('Accuracy score: ')\n",
    "print(accuracy_score(y_test, predicted))\n",
    "\n",
    "\n",
    "print('Confusion Matrix: ')\n",
    "print(matrix)"
   ]
  }
 ],
 "metadata": {
  "kernelspec": {
   "display_name": "Python 3.8.3 64-bit",
   "language": "python",
   "name": "python3"
  },
  "language_info": {
   "codemirror_mode": {
    "name": "ipython",
    "version": 3
   },
   "file_extension": ".py",
   "mimetype": "text/x-python",
   "name": "python",
   "nbconvert_exporter": "python",
   "pygments_lexer": "ipython3",
   "version": "3.8.3"
  },
  "orig_nbformat": 4,
  "vscode": {
   "interpreter": {
    "hash": "aee8b7b246df8f9039afb4144a1f6fd8d2ca17a180786b69acc140d282b71a49"
   }
  }
 },
 "nbformat": 4,
 "nbformat_minor": 2
}
